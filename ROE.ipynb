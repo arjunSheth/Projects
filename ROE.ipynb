{
 "cells": [
  {
   "cell_type": "code",
   "execution_count": 1,
   "id": "c570595c",
   "metadata": {},
   "outputs": [],
   "source": [
    "import yahoo_fin\n",
    "import requests\n",
    "import pandas as pd\n",
    "from bs4 import BeautifulSoup\n",
    "import urllib\n",
    "import string\n",
    "import urllib.request \n",
    "from urllib.request import urlopen\n",
    "import http.cookiejar\n",
    "import yahoo_fin.stock_info as si\n",
    "import re\n",
    "import json\n",
    "import csv\n",
    "from io import StringIO\n",
    "import numpy as np\n",
    "import yfinance as yf\n",
    "import yahoo_fin\n",
    "import yahoo_fin.stock_info as si\n",
    "from urllib.request import urlopen\n",
    "from bs4 import BeautifulSoup"
   ]
  },
  {
   "cell_type": "markdown",
   "id": "91b9b965",
   "metadata": {},
   "source": [
    "## Inputting Parameters\n",
    "<br>"
   ]
  },
  {
   "cell_type": "code",
   "execution_count": 2,
   "id": "79e9c459",
   "metadata": {},
   "outputs": [],
   "source": [
    "def get_roe(ticker):\n",
    "    url = \"https://query1.finance.yahoo.com/v10/finance/quoteSummary/\" + ticker + \"?modules=financialData\"\n",
    "    html = urlopen(url).read()\n",
    "    soup = BeautifulSoup(html, features=\"html.parser\")\n",
    "    \n",
    "    # kill all script and style elements\n",
    "    for script in soup([\"script\", \"style\"]):\n",
    "        script.extract()    # rip it out\n",
    "    \n",
    "    # get text\n",
    "    text = soup.get_text()\n",
    "    \n",
    "    # break into lines and remove leading and trailing space on each\n",
    "    lines = (line.strip() for line in text.splitlines())\n",
    "    # break multi-headlines into a line each\n",
    "    chunks = (phrase.strip() for line in lines for phrase in line.split(\"  \"))\n",
    "    # drop blank lines\n",
    "    text = '\\n'.join(chunk for chunk in chunks if chunk)\n",
    "    \n",
    "    index_1 = text.find(\"returnOnEquity\")\n",
    "    index_2 = text.find(\"fmt\", index_1) + 6\n",
    "    index_3 = text.find(\"}\", index_2) - 2\n",
    "    x = float(text[index_2 : index_3])/100\n",
    "    roe = round(x, 5)\n",
    "    \n",
    "    return roe\n"
   ]
  },
  {
   "cell_type": "code",
   "execution_count": 3,
   "id": "bfdfd631",
   "metadata": {},
   "outputs": [],
   "source": [
    "def get_dividend(ticker):    \n",
    "    ticker = \"amzn\"\n",
    "    quote_table = si.get_quote_table(ticker)\n",
    "    str = quote_table[\"Forward Dividend & Yield\"]\n",
    "    if str == \"N/A (N/A)\":\n",
    "        return 0 \n",
    "    else:\n",
    "        index = str.find(\"(\")\n",
    "        dvdt = float(str[0 : index - 1])\n",
    "        return dvdt"
   ]
  },
  {
   "cell_type": "code",
   "execution_count": 4,
   "id": "52981c2e",
   "metadata": {},
   "outputs": [],
   "source": [
    "def get_SH_equity(ticker):\n",
    "    balance_sheet = si.get_financials(ticker, yearly = True, quarterly = False)['yearly_balance_sheet']\n",
    "    x = balance_sheet.loc['totalStockholderEquity'][0].item()\n",
    "    return x"
   ]
  },
  {
   "cell_type": "code",
   "execution_count": 5,
   "id": "c9917fdc",
   "metadata": {},
   "outputs": [],
   "source": [
    "def  get_shares_out(ticker):\n",
    "    t = yf.Ticker(ticker)\n",
    "    x = t.info\n",
    "    shares_out = x['sharesOutstanding']\n",
    "    return shares_out"
   ]
  },
  {
   "cell_type": "code",
   "execution_count": 6,
   "id": "86038eec",
   "metadata": {},
   "outputs": [],
   "source": [
    "def get_gr(ticker):\n",
    "    t = yf.Ticker(ticker)\n",
    "    x = t.info\n",
    "    k = x['earningsGrowth']\n",
    "    return k"
   ]
  },
  {
   "cell_type": "code",
   "execution_count": null,
   "id": "b8f612de",
   "metadata": {},
   "outputs": [],
   "source": []
  },
  {
   "cell_type": "code",
   "execution_count": 7,
   "id": "d2975531",
   "metadata": {},
   "outputs": [
    {
     "name": "stdout",
     "output_type": "stream",
     "text": [
      "Enter a ticker: aapl\n",
      "The ROE is 1.7546\n",
      "The Dividend is 0\n",
      "The Shareholder's Equity is 50672000000\n",
      "The Outstanding Shares are 15908100096\n",
      "The Growth Rate is 0.048\n"
     ]
    }
   ],
   "source": [
    "ticker = input(\"Enter a ticker: \")\n",
    "\n",
    "roe = get_roe(ticker)\n",
    "dvd = get_dividend(ticker) \n",
    "stk_eq = get_SH_equity(ticker) #Stock-holder equity\n",
    "shares_out = get_shares_out(ticker)\n",
    "gr = get_gr(ticker)\n",
    "print(\"The ROE is\", roe)\n",
    "print(\"The Dividend is\", dvd)\n",
    "print(\"The Shareholder's Equity is\", stk_eq)\n",
    "print(\"The Outstanding Shares are\", shares_out)\n",
    "print(\"The Growth Rate is\", gr)"
   ]
  },
  {
   "cell_type": "code",
   "execution_count": 8,
   "id": "d5a4d283",
   "metadata": {},
   "outputs": [
    {
     "name": "stdout",
     "output_type": "stream",
     "text": [
      "The Intrinsic value of $ aapl  \n",
      "by ROE valuation method is 41.92115056132375\n"
     ]
    }
   ],
   "source": [
    "stk_eq_PER = stk_eq / shares_out #Shareholders equity per share\n",
    "stk_eq_PER_y10 = stk_eq_PER * (1 + gr)**10 #Shareholders equity per share grown till time 10 \n",
    "divdnt_y10 = [dvd*(1 + gr)**i*(1 + 0.09)**(-i) for i in range(1,11)] #Growing dividends every year by the growth rate, and then taking npv\n",
    "y10_income = stk_eq_PER_y10 * roe # Income generated per share in Year 10 using shareholders equity\n",
    "income = y10_income / 0.09 #Assume perpetuity of income generated per share using shareholders_equity. Discount rate used is 0.09\n",
    "\n",
    "income_npv = income/(1 + 0.09)**10 #income NPV today \n",
    "sum_divdnt = np.sum(np.array(divdnt_y10)) #Sum of income NPV and sum of dividents\n",
    "final_value = sum_divdnt + income_npv\n",
    "print(\"The Intrinsic value of $\", ticker, \" \\nby ROE valuation method is\", final_value)"
   ]
  }
 ],
 "metadata": {
  "kernelspec": {
   "display_name": "Python 3 (ipykernel)",
   "language": "python",
   "name": "python3"
  },
  "language_info": {
   "codemirror_mode": {
    "name": "ipython",
    "version": 3
   },
   "file_extension": ".py",
   "mimetype": "text/x-python",
   "name": "python",
   "nbconvert_exporter": "python",
   "pygments_lexer": "ipython3",
   "version": "3.9.7"
  }
 },
 "nbformat": 4,
 "nbformat_minor": 5
}
