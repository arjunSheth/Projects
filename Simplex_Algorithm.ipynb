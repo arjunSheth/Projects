{
  "nbformat": 4,
  "nbformat_minor": 0,
  "metadata": {
    "colab": {
      "provenance": []
    },
    "kernelspec": {
      "name": "python3",
      "display_name": "Python 3"
    },
    "language_info": {
      "name": "python"
    }
  },
  "cells": [
    {
      "cell_type": "code",
      "metadata": {
        "id": "sUpU1QETHaJ9"
      },
      "source": [
        "# Functions:\n",
        "# 0)Check whether cost funcion is maximization or minimization (if minization, multiply the cost function by -1)\n",
        "# 1)Formation of lpp\n",
        "# 2)Standard form of lpp (also modify cost function)\n",
        "# 3)Add Artificial Variable if array is non-empty (also modify cost function)\n",
        "# 4)Check the column vectors for each x_i and and store the basis vectors\n",
        "# 5)Form arrays cb, xb, B\n",
        "# 6)Calculate zj-cj\n",
        "# 7)Determine the entering and exiting vector\n",
        "# 8)VAriable names: cost,inequalities, constraints(all the constraints)\n"
      ],
      "execution_count": null,
      "outputs": []
    },
    {
      "cell_type": "code",
      "metadata": {
        "id": "utGvQoVHCguu"
      },
      "source": [
        "import numpy as np\n",
        "import math"
      ],
      "execution_count": null,
      "outputs": []
    },
    {
      "cell_type": "code",
      "metadata": {
        "id": "f1e_1DwxljJh"
      },
      "source": [
        "def make_constraints(eqn):\n",
        "    eqn = eqn.replace(' ', '')\n",
        "    eqn = eqn.replace('<','≤')\n",
        "    eqn = eqn.replace('>', '≥')\n",
        "    arr = []\n",
        "    for i in range(0, len(eqn)):\n",
        "        if(eqn[i] == 'x'):\n",
        "            j = i\n",
        "            while j >= 0 and eqn[j] != '-' and eqn[j] != '+':\n",
        "                j = j - 1\n",
        "                \n",
        "            if j == -1:\n",
        "                sum = '+'\n",
        "                for l in range(i):\n",
        "                    sum += eqn[l]\n",
        "                if sum == '+':\n",
        "                    sum = 1\n",
        "                    arr.append(float(sum))\n",
        "                else:\n",
        "                    arr.append(float(sum))\n",
        "            else:\n",
        "                sum = ''\n",
        "                for k in range(j, i):\n",
        "                    sum+=eqn[k]\n",
        "                if sum == '+':\n",
        "                    sum = 1\n",
        "                    arr.append(float(sum))\n",
        "                elif sum == '-':\n",
        "                    sum = -1\n",
        "                    arr.append(float(sum))\n",
        "                else:\n",
        "                    arr.append(float(sum))\n",
        "        if(eqn[i] == '≥' or eqn[i] == '≤' or eqn[i] == '='):\n",
        "            inequalities.append(eqn[i])\n",
        "            sum = ''\n",
        "            for j in range(i+1, len(eqn)):\n",
        "                sum += eqn[j]  \n",
        "            arr.append(float(sum))\n",
        "    \n",
        "    return np.array(arr)"
      ],
      "execution_count": null,
      "outputs": []
    },
    {
      "cell_type": "code",
      "metadata": {
        "id": "M6rF_8f0Bfge"
      },
      "source": [
        "def make_constraintsold(eqn):\n",
        "  eqn = eqn.replace(' ', '')\n",
        "  eqn = eqn.replace('<','≤')\n",
        "  eqn = eqn.replace('>','≥')\n",
        "  arr = []\n",
        "  for i in range(0, len(eqn)):\n",
        "    if(eqn[i] == 'x'):\n",
        "      j = i\n",
        "      while (eqn[j] != '-' and eqn[j] != '+'):\n",
        "        j = j - 1\n",
        "      sum = ''\n",
        "      print(j)\n",
        "      for k in range(j, i):\n",
        "        sum+=eqn[k]\n",
        "      print(sum)\n",
        "      arr.append(float(sum))\n",
        "    if (eqn[i]=='≤' or eqn[i]=='≥' or eqn[i]=='='):\n",
        "      inequalities.append(eqn[i])\n",
        "      sum = ''\n",
        "      for j in range(i+1, len(eqn)):\n",
        "        sum+=eqn[j]\n",
        "      arr.append(float(sum))\n",
        "  \n",
        "  return np.array(arr)\n",
        "\n",
        "    "
      ],
      "execution_count": null,
      "outputs": []
    },
    {
      "cell_type": "code",
      "metadata": {
        "id": "6r-eQPpQEk-i"
      },
      "source": [
        "def make_cost():\n",
        "  global cost\n",
        "  cost = cost.replace(' ','')\n",
        "  if cost[1]=='i':\n",
        "    i=0\n",
        "    while cost[i]!='=':\n",
        "      i+=1\n",
        "    cost=cost[i+1: ]\n",
        "    cost = make_constraints(cost)\n",
        "    cost = -1 * cost\n",
        "  elif cost[1]=='a':\n",
        "    i=0\n",
        "    while cost[i]!='=':\n",
        "      i+=1\n",
        "    cost=cost[i+1: ]\n",
        "    cost = make_constraints(cost)"
      ],
      "execution_count": null,
      "outputs": []
    },
    {
      "cell_type": "code",
      "metadata": {
        "id": "ypVCgT_KDFRA"
      },
      "source": [
        "def stan_lpp():\n",
        "  global cost\n",
        "  for i in range(len(constraints)):\n",
        "    if inequalities[i] == '≤':\n",
        "      constraints[i] = constraints[i].tolist()\n",
        "      for k in range(len(constraints)): \n",
        "        if i==k:\n",
        "          constraints[k].append(1)\n",
        "          constraints[i][len(constraints[i])-1],constraints[i][len(constraints[i])-2] = constraints[i][len(constraints[i])-2],constraints[i][len(constraints[i])-1]\n",
        "\n",
        "        else:\n",
        "          constraints[k] = constraints[k].tolist()\n",
        "          constraints[k].append(0)\n",
        "          constraints[k][len(constraints[k])-1],constraints[k][len(constraints[k])-2] = constraints[k][len(constraints[k])-2],constraints[k][len(constraints[k])-1]\n",
        "\n",
        "        constraints[k] = np.array(constraints[k])\n",
        "      cost = cost.tolist()\n",
        "      cost.append(0)\n",
        "      cost = np.array(cost)\n",
        "\n",
        "\n",
        "    elif inequalities[i] == '≥':\n",
        "      constraints[i] = constraints[i].tolist()\n",
        "      for k in range(len(constraints)): \n",
        "        if i==k:\n",
        "          constraints[k].append(-1)\n",
        "          constraints[i][len(constraints[i])-1],constraints[i][len(constraints[i])-2] = constraints[i][len(constraints[i])-2],constraints[i][len(constraints[i])-1]\n",
        "\n",
        "        else:\n",
        "          constraints[k] = constraints[k].tolist()\n",
        "          constraints[k].append(0)\n",
        "          constraints[k][len(constraints[k])-1],constraints[k][len(constraints[k])-2] = constraints[k][len(constraints[k])-2],constraints[k][len(constraints[k])-1]\n",
        "\n",
        "        constraints[k] = np.array(constraints[k])\n",
        "      cost = cost.tolist()\n",
        "      cost.append(0)\n",
        "      cost = np.array(cost)"
      ],
      "execution_count": null,
      "outputs": []
    },
    {
      "cell_type": "code",
      "metadata": {
        "id": "t2nVjmV8nYiu"
      },
      "source": [
        "def add_av():\n",
        "  global constraints\n",
        "  global cost \n",
        "  global inequalities\n",
        "  for i in range(len(constraints)):\n",
        "    if inequalities[i]=='≥' or inequalities[i]=='=':\n",
        "      constraints[i] = constraints[i].tolist()\n",
        "      for k in range(len(constraints)): \n",
        "        if i==k:\n",
        "          constraints[k].append(1)\n",
        "          constraints[i][len(constraints[i])-1],constraints[i][len(constraints[i])-2] = constraints[i][len(constraints[i])-2],constraints[i][len(constraints[i])-1]\n",
        "\n",
        "        else:\n",
        "          constraints[k] = constraints[k].tolist()\n",
        "          constraints[k].append(0)\n",
        "          constraints[k][len(constraints[k])-1],constraints[k][len(constraints[k])-2] = constraints[k][len(constraints[k])-2],constraints[k][len(constraints[k])-1]\n",
        "\n",
        "        constraints[k] = np.array(constraints[k])\n",
        "      cost = cost.tolist()\n",
        "      cost.append(-100000)\n",
        "      cost = np.array(cost)\n",
        "      \n"
      ],
      "execution_count": null,
      "outputs": []
    },
    {
      "cell_type": "code",
      "metadata": {
        "id": "b6HaSIodBhAa"
      },
      "source": [
        "def basic_solution():\n",
        "  global constraints\n",
        "  global cost\n",
        "  global xb\n",
        "  global cb\n",
        "  cb=[]\n",
        "  xb=[]\n",
        "  for i in range(len(constraints)):\n",
        "    j=0\n",
        "    for j in range(len(cost)):\n",
        "      count = 0\n",
        "      if constraints[i][j]==1. or constraints[i][j]==1:\n",
        "        for k in range(len(constraints)):\n",
        "          if constraints[k][j]==0.0:\n",
        "            count+=1\n",
        "        if count==len(constraints)-1:\n",
        "          cb.append(cost[j])\n",
        "          xb.append(j+1)\n",
        "          break\n",
        "\n",
        "\n",
        "\n",
        "            \n",
        "\n",
        "\n",
        "      \n",
        "    \n",
        "\n",
        "\n",
        "\n"
      ],
      "execution_count": null,
      "outputs": []
    },
    {
      "cell_type": "code",
      "metadata": {
        "id": "iDxEuz7Vp45F"
      },
      "source": [
        "\n",
        "def zj_cj():\n",
        "  global constraints\n",
        "  global cost\n",
        "  global cb\n",
        "  global zjcj\n",
        "  a=0\n",
        "  zjcj=[]\n",
        "  for i in range(len(cost)):\n",
        "    a=0\n",
        "    for j in range(len(constraints)):\n",
        "      x=cb[j]\n",
        "      y=constraints[j][i]\n",
        "      a+=x*y\n",
        "    zjcj.append(a-cost[i])\n",
        "\n",
        "\n"
      ],
      "execution_count": null,
      "outputs": []
    },
    {
      "cell_type": "code",
      "metadata": {
        "id": "8NAwUVBb0SfC"
      },
      "source": [
        "def check_zjcj():\n",
        "  global zjcj\n",
        "  c=0\n",
        "  for i in range(len(zjcj)):\n",
        "    if zjcj[i]<0:\n",
        "      c+=1\n",
        "  if c>0:\n",
        "    return True\n",
        "  else:\n",
        "    return False"
      ],
      "execution_count": null,
      "outputs": []
    },
    {
      "cell_type": "code",
      "metadata": {
        "id": "ckAEKxda2c6R"
      },
      "source": [
        "def enter_exit():\n",
        "  global zjcj\n",
        "  global constraints\n",
        "  global xb\n",
        "  global cb\n",
        "  min_z = zjcj[0]\n",
        "  vectors=[]\n",
        "  for i in range(len(zjcj)):\n",
        "    if zjcj[i] <= min_z:\n",
        "      min_z = zjcj[i]\n",
        "      k=i\n",
        "  vectors.append(k)\n",
        "  max_z=[]\n",
        "  for i in range(len(constraints)):\n",
        "    if constraints[i][k]!=0:\n",
        "      max_z.append(constraints[i][len(constraints[i])-1]/constraints[i][k])\n",
        "    else:\n",
        "      max_z.append(-1)\n",
        "  i = 0\n",
        "  while i!=len(max_z) and max_z[i] < 0:\n",
        "    i+=1\n",
        "  if i ==len(max_z):\n",
        "    return -1\n",
        "  exit = max_z[i]\n",
        "  for i in range(len(max_z)):\n",
        "    if max_z[i] <= exit and max_z[i]>0:\n",
        "      exit = max_z[i]\n",
        "      k = i\n",
        "  vectors.append(k)\n",
        "  xb[vectors[1]]=vectors[0] + 1\n",
        "  cb[vectors[1]]=cost[vectors[0]] \n",
        "  return vectors\n",
        "  \n",
        "\n",
        "    \n",
        "\n",
        "    \n",
        "\n"
      ],
      "execution_count": null,
      "outputs": []
    },
    {
      "cell_type": "code",
      "metadata": {
        "id": "_A0ukmxvG9tm"
      },
      "source": [
        "def row_reduction(vectors):\n",
        "  global constraints\n",
        "  #list1 = np.array([3,5,1,0,15])\n",
        "  #list2 = np.array([5,2,0,1,10])\n",
        "  #constraints = [list1, list2]\n",
        "  #vectors = [0,1]\n",
        "  constraints[vectors[1]] = constraints[vectors[1]]/constraints[vectors[1]][vectors[0]]\n",
        "  for i in range(len(constraints)):\n",
        "    if i!=vectors[1]:\n",
        "      constraints[i] = constraints[i] - (constraints[i][vectors[0]] * constraints[vectors[1]])\n",
        "      \n",
        "  #print(constraints)\n",
        "\n",
        "#row_reduction([0,1])"
      ],
      "execution_count": null,
      "outputs": []
    },
    {
      "cell_type": "code",
      "metadata": {
        "id": "xE2MxTz9Uu_B"
      },
      "source": [
        "def factorial(n):\n",
        "  c=1\n",
        "  while n!=1:\n",
        "    c*=n\n",
        "    n-=1\n",
        "  return c\n"
      ],
      "execution_count": null,
      "outputs": []
    },
    {
      "cell_type": "code",
      "metadata": {
        "id": "myJ9OyJsl8vu"
      },
      "source": [
        "def sort(array):\n",
        "    for i in range(len(array)):\n",
        "        least = array[i][0]\n",
        "        k = 0\n",
        "        for j in range(i, len(array)):\n",
        "            if array[j][0] <= least:\n",
        "                least = array[j][0]\n",
        "                k = j        \n",
        "        array[i], array[k] = array[k], array[i]\n",
        "    \n",
        "    return array"
      ],
      "execution_count": null,
      "outputs": []
    },
    {
      "cell_type": "code",
      "metadata": {
        "colab": {
          "base_uri": "https://localhost:8080/"
        },
        "id": "TK35uuXWmMtW",
        "outputId": "ed236562-6e16-4f99-8066-1f550c8a14dc"
      },
      "source": [
        "#final \n",
        "global cost\n",
        "global inequalities\n",
        "global constraints\n",
        "global zjcj\n",
        "global xb\n",
        "global cb\n",
        "inequalities = []\n",
        "constraints = []\n",
        "zjcj = []\n",
        "xb = []\n",
        "cb = []\n",
        "array = []\n",
        "cost = input(\"Enter the cost function\\n\")\n",
        "m = cost[1]\n",
        "make_cost()\n",
        "length = len(cost)\n",
        "entry = input(\"Enter the constraints and type 'Solve' once you are done\\n\")\n",
        "while entry.lower() != 'solve':\n",
        "    constraints.append(make_constraints(entry))\n",
        "    entry = input()\n",
        "    \n",
        "stan_lpp()\n",
        "add_av()\n",
        "basic_solution()\n",
        "zj_cj()\n",
        "ncm = (factorial(len(cost)))/(factorial(len(cost) - len(constraints)) * factorial(len(constraints)))\n",
        "print(ncm,\"ncm\")\n",
        "count = 0\n",
        "while check_zjcj():\n",
        "    count += 1\n",
        "    vectors = enter_exit()\n",
        "    if vectors == -1:\n",
        "        print('Unbounded solution')\n",
        "        break\n",
        "    row_reduction(vectors)\n",
        "    zj_cj()\n",
        "if count > ncm:\n",
        "    print(\"There is a degeneracy\")\n",
        "\n",
        "\n",
        "if vectors != -1:\n",
        "    print('The optimal solution for the given constraints is')\n",
        "\n",
        "#     for i in range(len(constraints)):\n",
        "#         if x_B[i] <= length:\n",
        "#             print('x_'+str(x_B[i]),'=', constraints[i][len(constraints[i]) - 1])\n",
        "    \n",
        "#     for i in range(1, length):\n",
        "#         if i not in x_B:\n",
        "#             print('x_'+str(i),'= 0')\n",
        "\n",
        "    for i in range(len(constraints)):\n",
        "        if xb[i] <= length:\n",
        "            array.append([xb[i], constraints[i][len(constraints[i]) - 1]])\n",
        "            \n",
        "    for i in range(length):\n",
        "        if (i+1) not in xb:\n",
        "            array.append([i + 1, 0])\n",
        "\n",
        "    array = sort(array)\n",
        "    \n",
        "    for i in range(len(array)):\n",
        "        print('x_'+str(array[i][0]),'=',array[i][1])\n",
        "\n",
        "    z = 0\n",
        "    for i in range(len(xb)):\n",
        "        z += cb[i] * constraints[i][len(constraints[i]) - 1]\n",
        "        \n",
        "    if m == 'i':\n",
        "        print('And the minimum value of z is', -z)\n",
        "    else:\n",
        "        print('And the maximum value of z is', z)\n",
        "\n",
        "\n",
        "#minimize z=-0.75x1+20x2-0.5x3+6x4\n",
        "#0.25x1-8x2-x3+9x4≤0\n",
        "#0.5x1-12x2-0.5x3+3x4≤0\n",
        "#0x1+0x2+x3+0x4≤1\n"
      ],
      "execution_count": null,
      "outputs": [
        {
          "output_type": "stream",
          "name": "stdout",
          "text": [
            "Enter the cost function\n",
            "minimize z=-0.75x1+20x2-0.5x3+6x4\n",
            "Enter the constraints and type 'Solve' once you are done\n",
            "0.25x1-8x2-x3+9x4≤0\n",
            "0.5x1-12x2-0.5x3+3x4≤0\n",
            "0x1+0x2+x3+0x4≤1\n",
            "solve\n",
            "35.0 ncm\n",
            "The optimal solution for the given constraints is\n",
            "x_1 = -8.0\n",
            "x_2 = -0.375\n",
            "x_3 = 1.0\n",
            "x_4 = 0\n",
            "And the minimum value of z is -2.0\n"
          ]
        }
      ]
    },
    {
      "cell_type": "code",
      "metadata": {
        "id": "kIHfrHcZBhm5"
      },
      "source": [],
      "execution_count": null,
      "outputs": []
    }
  ]
}